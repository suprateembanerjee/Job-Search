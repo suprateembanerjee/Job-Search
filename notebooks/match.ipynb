{
 "cells": [
  {
   "cell_type": "code",
   "execution_count": 8,
   "metadata": {},
   "outputs": [],
   "source": [
    "import weaviate\n",
    "import weaviate.classes as wvc\n",
    "from weaviate.classes.config import Property, DataType\n",
    "from weaviate.connect import ConnectionParams\n",
    "from weaviate.util import generate_uuid5\n",
    "import ollama\n",
    "import os\n",
    "import pickle\n",
    "import json"
   ]
  },
  {
   "cell_type": "code",
   "execution_count": 3,
   "metadata": {},
   "outputs": [],
   "source": [
    "client = weaviate.connect_to_local(additional_config=wvc.init.AdditionalConfig(timeout=(60, 7500)))"
   ]
  },
  {
   "cell_type": "code",
   "execution_count": 5,
   "metadata": {},
   "outputs": [
    {
     "data": {
      "text/plain": [
       "87178"
      ]
     },
     "execution_count": 5,
     "metadata": {},
     "output_type": "execute_result"
    }
   ],
   "source": [
    "with open('../data/jobs.json') as f:\n",
    "    jobs = json.load(f)\n",
    "\n",
    "len(jobs)"
   ]
  },
  {
   "cell_type": "code",
   "execution_count": 6,
   "metadata": {},
   "outputs": [
    {
     "data": {
      "text/plain": [
       "{'job_id': '1218575',\n",
       " 'company_name': \"Children's Nebraska\",\n",
       " 'title': 'Respiratory Therapist',\n",
       " 'description': \"At Children’s, the region’s only full-service pediatric healthcare center, our people make us the very best for kids. Come cultivate your passion, purpose and professional development in an environment of excellence and inclusion, where team members are supported and deeply valued. Opportunities for career growth abound as we grow our services and spaces, including the cutting-edge Hubbard Center for Children. Join our highly engaged, caring team—and join us in providing brighter, healthier tomorrows for the children we serve. Children's is committed to diversity and inclusion. We are an equal opportunity employer including veterans and people with disabilities.\\nA Brief OverviewProvides appropriate respiratory care specific to the pediatric population in accordance with the hospital policy/procedure. Assesses, plans and implements appropriate respiratory plan of care based on the cardiopulmonary needs of the patients. Evaluates effectiveness of plan of care and recommends revisions to the multidisciplinary care team\\nEssential Functions• Set up and operate devices such as mechanical ventilators, therapeutic gas administration apparatus, environmental control systems, and aerosol generators, following specified parameters of treatment. • Determine requirements for treatment, such as type, methods and duration of therapy, precautions to be taken, and medication and dosages, compatible with physician’s orders. • Read physicians’ orders, measure arterial blood gases, and review patient information to assess patient’s condition. • Explain treatment procedures to patients to gain cooperation and allay fears. • Monitor patient’s physiological responses to therapy such as vital signs, arterial blood gases and blood chemistry changes and consult with physician if adverse reactions occur. • Administer therapeutic gases including nitrogen, nitric oxide, heliox, etc. • Enforce safety rules and ensure careful adherence to physicians’ orders. • Maintain charts that contain patient pertinent identification and therapy information. • Inspect, clean, test, and maintain respiratory therapy equipment to ensure equipment is functioning safely and efficiently and notify manager/supervisor when repairs are necessary. • Educate patients and/or their families about the patient’s condition and teach appropriate disease management techniques such as breathing exercises and the use of medications and respiratory equipment. • Perform broncho-pulmonary drainage and assist or instruct patients in performance of breathing exercises. • Conduct lung capacity tests to evaluate patient’s cardiopulmonary functions. • Provide emergency care, including artificial respiration, external cardiac massage and assistance with cardiopulmonary resuscitation. • Complete all required respiratory therapy competency tests within specified timeline. • Demonstrate competency in identified technical skills for the respiratory department at the specific work area.Other duties may also include Clinical Instructor (schedule dependent on the contract with Respiratory Therapy schools): • Supervise contracted Respiratory Therapy (RT) students from specified schools in the clinical hospital setting. • Orients RT students to their role in the hospital, which includes scope of service, policies and procedures, patient safety, and professionalism. • Orients RT students to the equipment used by RT at Children’s. • Provides opportunities for directly supervised hands on learning in the clinical setting. • Responsible for accurate completion and documentation of all Respiratory Therapy performed with RT students. • Responsible for accurate “Hand off” of patient information and ordered Respiratory Therapy performed with RT students.Regular attendance at work is an essential function of the job.Perform physical requirements as described in the Physical Requirements section\\nEducation QualificationsGraduate of an accredited AMA approved school of respiratory care accredited by the National Board of Respiratory Care Required andBachelor's Degree From an AMA approved accredited school in respiratory care PreferredExperience QualificationsMinimum 1 year experience in respiratory therapy Preferred andExperience working with pediatric patients PreferredSkills and AbilitiesDemonstrates competency in technical skills related to the Respiratory Therapy department.Licenses and CertificationsRCP - Licensed Respiratory Care Practitioner Current and valid Nebraska license as a Respiratory Care Practitioner Required andBCLS - Basic Life Support through the American Heart Association Required andRRT - Registered Respiratory Therapist Current and valid National Registered Respiratory Therapist (RRT) credential within 1 Year Required andCurrent and valid National Registered Neonatal/Pediatric Respiratory Therapist (RRT-NPS) credential within three years of hire. Required andPALS - Pediatric Advanced Life Support within 180 Days Required\\nChildren’s is the very best for kids and the very best for your career! At Children’s, we put YOU first so together, we can improve the life of every child!• Requires the ability to communicate effective, both verbally and in writing • Requires basic computer skills \\n\\nEDUCATION AND EXPERIENCE: \\n\\n• Graduate of an accredited school of occupational therapy • Must possess current valid Nebraska State License in Occupational Therapy • Must possess current valid registration by the NBCOT ( National Board for Certification in Occupational Therapy) • Must be certified in Basic Life Support • Experience with pediatric patients preferred\",\n",
       " 'location': 'Nebraska',\n",
       " 'type': 'Full-time',\n",
       " 'remote': False,\n",
       " 'skills': 'Health Care Provider',\n",
       " 'industry': 'Hospitals and Health Care',\n",
       " 'application_url': 'www.childrensnebraska.org'}"
      ]
     },
     "execution_count": 6,
     "metadata": {},
     "output_type": "execute_result"
    }
   ],
   "source": [
    "jobs[0]"
   ]
  },
  {
   "cell_type": "code",
   "execution_count": 7,
   "metadata": {},
   "outputs": [
    {
     "name": "stdout",
     "output_type": "stream",
     "text": [
      "Dropping pre-exisiting collection\n",
      "Inserted data!\n"
     ]
    }
   ],
   "source": [
    "if client.collections.exists('Jobs'):\n",
    "    print('Dropping pre-exisiting collection')\n",
    "    client.collections.delete('Jobs')\n",
    "    \n",
    "jobs_collection = client.collections.create(name='Jobs',\n",
    "                                            description='various job postings',\n",
    "                                            vectorizer_config=[wvc.config.Configure.NamedVectors.text2vec_ollama(api_endpoint='http://host.docker.internal:11434',\n",
    "                                                                                                                 model='nomic-embed-text',\n",
    "                                                                                                                 vector_index_config=wvc.config.Configure.VectorIndex.hnsw(quantizer=wvc.config.Configure.VectorIndex.Quantizer.bq(),\n",
    "                                                                                                                                                                           distance_metric=wvc.config.VectorDistances.L2_SQUARED),\n",
    "                                                                                                                 name='description_vector', \n",
    "                                                                                                                 source_properties=['description', 'skills', 'industry', 'title'], \n",
    "                                                                                                                 vectorize_collection_name=False)],\n",
    "                                            generative_config=wvc.config.Configure.Generative.ollama(api_endpoint='http://host.docker.internal:11434', model='llama3'),\n",
    "                                            reranker_config=wvc.config.Configure.Reranker.cohere(model='rerank-english-v3.0'),\n",
    "                                            properties=[wvc.config.Property(name='job_id', data_type=wvc.config.DataType.TEXT),\n",
    "                                                        wvc.config.Property(name='company_name', data_type=wvc.config.DataType.TEXT),\n",
    "                                                        wvc.config.Property(name='title', data_type=wvc.config.DataType.TEXT),\n",
    "                                                        wvc.config.Property(name='description', data_type=wvc.config.DataType.TEXT, tokenization=wvc.config.Tokenization.WHITESPACE),\n",
    "                                                        wvc.config.Property(name='location', data_type=wvc.config.DataType.TEXT),\n",
    "                                                        wvc.config.Property(name='type', data_type=wvc.config.DataType.TEXT),\n",
    "                                                        wvc.config.Property(name='remote', data_type=wvc.config.DataType.BOOL),\n",
    "                                                        wvc.config.Property(name='skills', data_type=wvc.config.DataType.TEXT),\n",
    "                                                        wvc.config.Property(name='industry', data_type=wvc.config.DataType.TEXT),\n",
    "                                                        wvc.config.Property(name='application_url', data_type=wvc.config.DataType.TEXT)])\n",
    "\n",
    "with jobs_collection.batch.dynamic() as batch:\n",
    "    for job in jobs:\n",
    "        obj_uuid = generate_uuid5(job)\n",
    "        batch.add_object(properties=job,\n",
    "                         uuid=obj_uuid)\n",
    "print('Inserted data!')"
   ]
  },
  {
   "cell_type": "code",
   "execution_count": 19,
   "metadata": {},
   "outputs": [],
   "source": [
    "with open('../data/roles.pkl', 'rb') as f:\n",
    "    roles = pickle.load(f)\n",
    "roles = [{'role': role} for role in roles]"
   ]
  },
  {
   "cell_type": "code",
   "execution_count": 20,
   "metadata": {},
   "outputs": [
    {
     "data": {
      "text/plain": [
       "{'role': 'QA Tester'}"
      ]
     },
     "execution_count": 20,
     "metadata": {},
     "output_type": "execute_result"
    }
   ],
   "source": [
    "roles[0]"
   ]
  },
  {
   "cell_type": "code",
   "execution_count": 21,
   "metadata": {},
   "outputs": [
    {
     "name": "stdout",
     "output_type": "stream",
     "text": [
      "Dropping pre-exisiting collection\n",
      "Inserted data!\n"
     ]
    }
   ],
   "source": [
    "if client.collections.exists('Roles'):\n",
    "    print('Dropping pre-exisiting collection')\n",
    "    client.collections.delete('Roles')\n",
    "    \n",
    "roles_collection = client.collections.create(name='Roles',\n",
    "                                            description='Distinct roles',\n",
    "                                            vectorizer_config=[wvc.config.Configure.NamedVectors.text2vec_ollama(api_endpoint='http://host.docker.internal:11434',\n",
    "                                                                                                                 model='nomic-embed-text',\n",
    "                                                                                                                 vector_index_config=wvc.config.Configure.VectorIndex.flat(quantizer=wvc.config.Configure.VectorIndex.Quantizer.bq(),\n",
    "                                                                                                                                                                           distance_metric=wvc.config.VectorDistances.L2_SQUARED),\n",
    "                                                                                                                 name='role_vector', \n",
    "                                                                                                                 source_properties=['role'], \n",
    "                                                                                                                 vectorize_collection_name=False)],\n",
    "                                            properties=[wvc.config.Property(name='role', data_type=wvc.config.DataType.TEXT)])\n",
    "\n",
    "roles_collection.data.insert_many(roles)\n",
    "print('Inserted data!')"
   ]
  },
  {
   "cell_type": "code",
   "execution_count": 22,
   "metadata": {},
   "outputs": [
    {
     "data": {
      "text/plain": [
       "{'industry': 'Medical Equipment Manufacturing'}"
      ]
     },
     "execution_count": 22,
     "metadata": {},
     "output_type": "execute_result"
    }
   ],
   "source": [
    "with open('../data/industries.pkl', 'rb') as f:\n",
    "    industries = pickle.load(f)\n",
    "industries = [{'industry': industry} for industry in industries]\n",
    "industries[0]"
   ]
  },
  {
   "cell_type": "code",
   "execution_count": 23,
   "metadata": {},
   "outputs": [
    {
     "name": "stdout",
     "output_type": "stream",
     "text": [
      "Inserted data!\n"
     ]
    }
   ],
   "source": [
    "if client.collections.exists('Industries'):\n",
    "    print('Dropping pre-exisiting collection')\n",
    "    client.collections.delete('Industries')\n",
    "    \n",
    "industries_collection = client.collections.create(name='Industries',\n",
    "                                            description='Distinct Industries',\n",
    "                                            vectorizer_config=[wvc.config.Configure.NamedVectors.text2vec_ollama(api_endpoint='http://host.docker.internal:11434',\n",
    "                                                                                                                 model='nomic-embed-text',\n",
    "                                                                                                                 vector_index_config=wvc.config.Configure.VectorIndex.flat(quantizer=wvc.config.Configure.VectorIndex.Quantizer.bq(),\n",
    "                                                                                                                                                                           distance_metric=wvc.config.VectorDistances.L2_SQUARED),\n",
    "                                                                                                                 name='industry_vector', \n",
    "                                                                                                                 source_properties=['industry'], \n",
    "                                                                                                                 vectorize_collection_name=False)],\n",
    "                                            properties=[wvc.config.Property(name='industry', data_type=wvc.config.DataType.TEXT)])\n",
    "\n",
    "industries_collection.data.insert_many(industries)\n",
    "print('Inserted data!')"
   ]
  },
  {
   "cell_type": "code",
   "execution_count": 30,
   "metadata": {},
   "outputs": [],
   "source": [
    "with open('data/extracted_summaries.json') as f:\n",
    "    summaries = json.load(f)"
   ]
  },
  {
   "cell_type": "code",
   "execution_count": 31,
   "metadata": {},
   "outputs": [
    {
     "data": {
      "text/plain": [
       "{'skills': ['Python',\n",
       "  'C++',\n",
       "  'Java',\n",
       "  'R',\n",
       "  'SQL',\n",
       "  'Keras',\n",
       "  'PyTorch',\n",
       "  'Tensorflow',\n",
       "  'Flask',\n",
       "  'FastAPI',\n",
       "  'AWS',\n",
       "  'Azure',\n",
       "  'Docker',\n",
       "  'NATS',\n",
       "  'Git',\n",
       "  'Jira'],\n",
       " 'location': 'Flexible',\n",
       " 'role_type': 'Flexible',\n",
       " 'interested_roles': ['Machine Learning Engineer'],\n",
       " 'industries': ['Healthcare', 'EdTech', 'Supply Chain'],\n",
       " 'team_fit': 'I would excel at a team that values innovation, collaboration, and open communication. A team that is passionate about leveraging AI to make a positive impact in society and is willing to take calculated risks to drive progress.',\n",
       " 'summary': 'As a Machine Learning Engineer at Chegg, I apply my passion and expertise in Generative AI, Natural Language Processing, and Deep Learning to develop state-of-the-art AI applications that empower students and educators. I have built deep learning models for question answering, topic prediction, and author extraction, leveraging LLMs, CNNs, and traditional ML models. I am currently working on CheggMate, a revolutionary AI-powered study assistant that powers student learning experiences and helps them master any subject. I have a Master of Science in Computer Science, specializing in Artificial Intelligence, from Northeastern University, where I gained a solid foundation in Deep Learning, Machine Learning, Computer Vision, and Natural Language Processing. I also have 2.5 years of experience in Research and Applied AI in Healthcare, EdTech, and supply chain, working with fast-paced startups and prominent Big Tech corporations. I have strong skills in Python, C++, Java, R, SQL, Keras, PyTorch, Tensorflow, Flask, FastAPI, AWS, Azure, Docker, NATS, Git, Jira, and more. I am an avid learner, conscious of the latest trends in AI and technology, and I enjoy giving tech talks and sharing my insights with the community.'}"
      ]
     },
     "execution_count": 31,
     "metadata": {},
     "output_type": "execute_result"
    }
   ],
   "source": [
    "i = 2\n",
    "summaries[i]"
   ]
  },
  {
   "cell_type": "code",
   "execution_count": 46,
   "metadata": {},
   "outputs": [
    {
     "name": "stdout",
     "output_type": "stream",
     "text": [
      "QUERY:\n",
      " As a Machine Learning Engineer at Chegg, I apply my passion and expertise in Generative AI, Natural Language Processing, and Deep Learning to develop state-of-the-art AI applications that empower students and educators. I have built deep learning models for question answering, topic prediction, and author extraction, leveraging LLMs, CNNs, and traditional ML models. I am currently working on CheggMate, a revolutionary AI-powered study assistant that powers student learning experiences and helps them master any subject. I have a Master of Science in Computer Science, specializing in Artificial Intelligence, from Northeastern University, where I gained a solid foundation in Deep Learning, Machine Learning, Computer Vision, and Natural Language Processing. I also have 2.5 years of experience in Research and Applied AI in Healthcare, EdTech, and supply chain, working with fast-paced startups and prominent Big Tech corporations. I have strong skills in Python, C++, Java, R, SQL, Keras, PyTorch, Tensorflow, Flask, FastAPI, AWS, Azure, Docker, NATS, Git, Jira, and more. I am an avid learner, conscious of the latest trends in AI and technology, and I enjoy giving tech talks and sharing my insights with the community.\n",
      "\n",
      "RETRIEVAL:\n"
     ]
    },
    {
     "data": {
      "text/plain": [
       "' Sr GenAI / Machine Learning Engineer'"
      ]
     },
     "metadata": {},
     "output_type": "display_data"
    },
    {
     "data": {
      "text/plain": [
       "\"Responsibilities:\\nDesign and implement machine learning models and algorithms to address business challenges, with a focus on Generative AI applications.Collaborate with data scientists and domain experts to understand requirements, gather data, and develop solutions that meet business objectives.Develop and maintain scalable and efficient codebase for training, testing, and deploying machine learning models in production environments.Conduct research and experiment with new techniques and algorithms to improve model performance and accuracy.Work closely with software engineers and DevOps teams to integrate machine learning models into existing systems and infrastructure.Collaborate with stakeholders to understand feedback and iterate on machine learning models to continuously improve performance and user experience.Mentor junior team members and provide technical guidance and support on machine learning best practices and methodologies.Stay up-to-date with the latest advancements in machine learning and AI technologies, and proactively identify opportunities for applying them to solve business problems.\\nQualifications:\\nUS Citizenship required for this roleBachelor's or Master's degree in Computer Science, Engineering, Mathematics, or a related field.10+ years of hands-on experience in developing and deploying machine learning models and algorithms, with a focus on Generative AI.Proficiency in programming languages such as Python, with experience in machine learning libraries such as OpenAI, TensorFlow, PyTorch, or Keras.Strong understanding of machine learning concepts and algorithms, including deep learning frameworks, reinforcement learning, and natural language processing.Experience with cloud platforms such as AWS, Azure, or Google Cloud for deploying machine learning models at scale.Solid understanding of software engineering principles and best practices, including version control, testing, and deployment pipelines.Excellent problem-solving skills and ability to think creatively to develop innovative solutions to complex problems.Strong communication and collaboration skills, with the ability to work effectively in a cross-functional team environment.Proven track record of delivering high-quality machine learning solutions on time and within budget in a fast-paced and dynamic environment.\""
      ]
     },
     "metadata": {},
     "output_type": "display_data"
    },
    {
     "name": "stdout",
     "output_type": "stream",
     "text": [
      "Score: 0.499\n"
     ]
    },
    {
     "data": {
      "text/plain": [
       "'Lead Machine Learning Engineer'"
      ]
     },
     "metadata": {},
     "output_type": "display_data"
    },
    {
     "data": {
      "text/plain": [
       "\"Who We Are\\n\\nWe are a small deep-tech startup with specialized capacities in behavior change solutions, offering a proven combination of behavioral psychology, data analytics, and digital communications. Our company focuses effectively on creating science-based solutions that tend to embrace social purpose and enhance the quality of people’s lives by creating a variety of products that use cutting-edge machine learning and data science methods to model, segment, and create the products.\\n\\nWe are seeking a Lead Machine Learning Engineer interested in solving the most challenging problems leveraging Machine Learning, especially Natural Language Processing (NLP) and Natural Language Understanding (NLU), and information retrieval including topical classification, sentiment analysis, and behaviors (user intent detection). Looking for people curious and love problem-solving. You have to like building end-to-end products that have a focus on ethics and reliability.\\n\\nWe are looking for Senior Machine Learning Engineers who assist the Data Science team in analyzing large amounts of data to find patterns and solutions that will provide insights used for solving complex problems. Work will require working in teams to solve large, complex problems to achieve interrelated and interdependent objectives. The Senior Machine Learning Engineer must be self-directed and comfortable supporting the requirements of the machine learning platform.\\n\\nResponsibilities\\n\\nImplementing and operating machine learning algorithmsRunning AI systems experiments and testsDesigning and developing machine learning systemsPerforming statistical analyses\\n\\nData Collection And Preprocessing\\n\\nGather, clean, and preprocess large datasets to make them suitable for machine learning tasks.Collaborate with data engineers and data scientists to ensure data quality and availability.Model Development:Design, build, and train machine learning models using state-of-the-art techniques and frameworks.Experiment with different algorithms and architectures to achieve optimal results.\\n\\nFeature Engineering\\n\\nCreate and select relevant features from data to improve model performance.Utilize domain knowledge to engineer features that capture important patterns.Model Deployment:Deploy machine learning models into production environments.Work closely with DevOps teams to ensure scalability, reliability, and security.\\n\\nMonitoring And Optimization\\n\\nImplement monitoring solutions to track model performance in real-time.Continuously fine-tune and optimize models to maintain or improve accuracy.Collaboration and Communication:Collaborate with cross-functional teams, including data scientists, software engineers, and domain experts.Clearly communicate technical findings and insights to both technical and non-technical stakeholders.\\n\\nResearch And Innovation\\n\\nStay up-to-date with the latest developments in machine learning and artificial intelligence.Experiment with emerging technologies and techniques to drive innovation within the organization.\\n\\nQualifications\\n\\nThe ideal candidate will have a background in Python, have experience working with large data sets, annotating and formatting data for ML, and have experience in building Machine Learning Platforms, applying Machine Learning, and deploying data-driven solutionsMaster's or PhD degree in Computer Science, Machine Learning, Data Science, or a related field (Ph.D. preferred).Proven experience (7+ years) as a Machine Learning Engineer or a similar role.Proficiency in machine learning frameworks (e.g., TensorFlow, PyTorch) and programming languages like Python, Java, Golang, and Scala. Strong knowledge of machine learning algorithms, deep learning, and statistical modeling.Experience with data pre-processing, feature engineering, and model deployment.Demonstrated strength in data modeling, ETL development, and data warehousingExperience using big data technologies (PostgresDB, Airflow, Kubernetes, Docker, Spark, Data Lakes, TensorFlow)Experience delivering end-to-end projects independently.Experience using business intelligence reporting tools (SuperSet, Power BI, Tableau, etc.).Knowledge of data management fundamentals and data storage principles.Experience with data pipelines and stream-processing systems Knowledge of distributed systems as it pertains to data storage and computing.Proven success in communicating with end-users, technical teams, and senior management to collect requirements, and describe data modeling decisions and data engineering strategy.Knowledge of software engineering best practices across the development life-cycle, including agile methodologies, coding standards, code reviews, version control, build processes, testing, and observability.\\n\\nSalary: $200k - $250/yr plus bonus and equity.\""
      ]
     },
     "metadata": {},
     "output_type": "display_data"
    },
    {
     "name": "stdout",
     "output_type": "stream",
     "text": [
      "Score: 0.127\n"
     ]
    },
    {
     "data": {
      "text/plain": [
       "'Machine Learning Engineer'"
      ]
     },
     "metadata": {},
     "output_type": "display_data"
    },
    {
     "data": {
      "text/plain": [
       "'Machine Learning Engineer\\nWE’RE LOOKING FOR A MACHINE LEARNING ENGINEER TO BECOME AN INSTRUMENTAL PART OF OUR NEXT PHASE OF GROWTH!\\nMachine Learning EngineerHybrid in Austin$200,000 - $250,000 Depending on experienceTo apply please email/ jack.crowley@searchability.com\\nWe are a leading innovator in the AI sector, working on making machines as advanced as possible!\\nWHO ARE WE?We are a high tech AI company who are shaping the way machines learn and interact with humans - If you are looking to join an exciting company, get in touch!\\nWHAT WILL YOU BE DOING?\\nYou will be working on our flagship products - Assisting in the rapid deployment of products that appeal to the market we are in, with the challenge of then scaling it afterwards. This role will give you the chance to work closely with our CTO and be a vital part of our growing tech team.\\nWE NEED YOU TO HAVE….Solid Python ExperienceWork professionally with PyTorchSolid C++ experience\\nIT’S NICE TO HAVE….NLP/AI and ML experienceOpen Source experienceTraining deep neural networksWork with robots a plus\\n\\nTO BE CONSIDERED….Please either apply by clicking online or emailing me directly to jack.crowley@searchability.com. I can make myself available outside of normal working hours to suit from 7am until 10pm. If unavailable, please leave a message and either myself or one of my colleagues will respond. By applying for this role, you give express consent for us to process & submit (subject to required skills) your application to our client in conjunction with this vacancy only. Also feel free to follow me on Twitter @SearchableJack or connect with me on LinkedIn, just search Jack Crowley in Google! I look forward to hearing from you.\\nMachine Learning, AI, ML, NLP, Deep Learning, Python, PyTorch'"
      ]
     },
     "metadata": {},
     "output_type": "display_data"
    },
    {
     "name": "stdout",
     "output_type": "stream",
     "text": [
      "Score: 0.197\n"
     ]
    },
    {
     "data": {
      "text/plain": [
       "'Sr. GenAI Engineer'"
      ]
     },
     "metadata": {},
     "output_type": "display_data"
    },
    {
     "data": {
      "text/plain": [
       "'\\nHi,Greetings of the day!I have an urgent requirement for you with one of my clients. I am sharing the job description with you, please go through it and reply to me with your updated resume if you find it interesting.Position :- Sr. GenAI EngineerLocation :- Irving Texas (Day 1 onsite)Fulltime RolesDesigning, developing, and implementing generative AI models and algorithms utilizing state-of-the-art techniques such as GPT, VAE, and GANsColaborating with cross-functional team to define the AI/Gen I requirements.Optimizing the existing GenAI models for performance improvement, scalability, and efficiencyDevelop and maintain the AI Pipeline that includes data processing, feature extraction, model training and evaluation.Collaboration with software engineering and operations teams to ensure seamless integration and deployment of AI models.Develop the documentation like technical specification, user guides, technical architecture, etc.SkillsBachelor’s or master’s degree in computer science, Engineering, or a related fieldMinimum 5 years of experience in Data Science and Machine LearningIn-depth knowledge of machine learning, deep learning, and generative AI techniquesKnowledge and experience of development and implementing Generative AI modelsProficiency in programming languages such as Python, R, and frameworks like TensorFlow, PyTorch or KerasExperience with natural language processing (NLP) techniques and tools, such as SpaCy, NLTK, or Hugging Face.Strong understanding of frameworks such as BERT, GPT, or Transformer modelsFamiliarity with computer vision techniques for image recognition, object detection, or image generationFamiliar with cloud-based platforms and services, such as AWS, GCP, or Azure.Expertise in data engineering, including data curation, cleaning, and preprocessingKnowledge of trusted AI practices, ensuring fairness, transparency, and accountability in AI models and systemsExcellent problem-solving and analytical skills, with the ability to translate business requirements into technical solutionsStrong communication and interpersonal skills, with the ability to collaborate effectively with stakeholders at various levelsTrack record of driving innovation and staying updated with the latest AI research and advancements\\n Thanks and Regards,Vikash KumarUS Technical Recruiter InfoTech Spectrum Inc2060, Walsh Ave, #120, Santa Clara, CA 95050Direct : 551-273-2078Email : vikash.kumar@infotechspectrum.com Linkedin : https://www.linkedin.com/in/vikash-sharma-613467216/Web: www.infotechspectrum.com\\nA Minority Business Enterprise, Certified by NMSDC  '"
      ]
     },
     "metadata": {},
     "output_type": "display_data"
    },
    {
     "name": "stdout",
     "output_type": "stream",
     "text": [
      "Score: 0.143\n"
     ]
    },
    {
     "data": {
      "text/plain": [
       "'Artificial Intelligence Engineer'"
      ]
     },
     "metadata": {},
     "output_type": "display_data"
    },
    {
     "data": {
      "text/plain": [
       "'Position Summary: \\nTitle: Architect Premium III – AI EngineerDuration: 3 Months - Long TermLocation: Washington, DC 20433\\nHybrid Onsite: 4 Days per week from Day1. \\nHM Comments: We are seeking an architect who is an expert in AI and Machine Learning areas.\\nRoles and Responsibilities for AI Engineer:The AI engineer will be responsible for designing, developing, and deploying AI models based on training data sets or using generative AI. The role will focus on leveraging Azure Cloud services to build enterprise-level solutions that meet the specific needs of the organization.\\nKey Responsibilities:Develop and implement AI models and algorithms.Ability to build application including front end to show finished product.Design and develop software applications that integrate AI technologies, including Generative AI, machine learning, and natural language processing.Collaborate with data scientists and other stakeholders to identify business requirements and develop solutions that meet those needs.Design and implement scalable and reliable software architectures that can handle large volumes of data and traffic.Develop and maintain automated testing frameworks to ensure the quality and reliability of software applications.Stay up-to-date with the latest AI and cloud-native technologies and trends, and apply them to improve software development processes and outcomes.Work closely with cross-functional teams, including product managers, designers, and other engineers, to deliver high-quality software products.Participate in code reviews, design reviews, and other team activities to ensure the quality and consistency of software development practices.Design and implement cloud-based solutions using Azure services such as Azure Functions, Azure App Service, Azure Storage, and Azure Cosmos DB.Implement and manage Azure DevOps pipelines for continuous integration and deployment of software applications.Implement and maintain security and compliance controls for Azure resources, including network security groups, Azure Active Directory, and Azure Key Vault.Collaborate with other teams, including operations and security, to ensure the availability, reliability, and security of Azure-based applications.\\nSelection CriteriaMinimum Education/Experience:A Master’s degree with 5 years of relevant experience, or a bachelor’s degree with 7 years of relevant experience.\\nTechnical Requirements:a) Strong proficiency in data modelling techniques and best practices, with a focus on designing models for AI applications.b) Extensive experience in implementing and optimizing data pipelines using Azure cloud technologies, such as Azure Data Factory, Azure Databricks, and Azure Synapse Analytics.c) In-depth knowledge of Azure Machine Learning for model deployment, management, and operationalization.d) Proficiency in programming languages commonly used in AI development, such as Python, R, and/or Scala.e) Experience with AI-specific development frameworks and libraries, such as TensorFlow, PyTorch, or scikit-learn.f) Familiarity with Azure Cognitive Services for integrating AI capabilities, such as natural language processing, computer vision, and speech recognition, into applications.g) Strong understanding of SQL and NoSQL databases, particularly Azure SQL Database and Azure Cosmos DB, for efficient data storage and retrieval.h) Experience in data cleansing, reformatting, and transforming tasks, including handling various file formats (CSV, JSON, Parquet, etc.), content types, and structures.i) Proficiency in data profiling techniques and tools to identify data quality issues and anomalies.j) Knowledge of data anonymization and data masking techniques to ensure data privacy and compliance with regulations.k) Familiarity with version control systems, such as Git, for managing code and collaboration.l) Experience in implementing and optimizing machine learning algorithms and models.m) Strong problem-solving skills and the ability to troubleshoot and resolve technical issues related to data engineering and AI development.n) Excellent understanding of cloud computing principles and distributed computing concepts.o) Familiarity with DevOps practices and CI/CD pipelines for automated deployment and testing.p) Strong knowledge of software engineering principles and best practices, including code documentation, testing, and maintainability.q) Ability to work collaboratively in cross-functional teams and effectively communicate technical concepts to non-technical stakeholders.\\n\\n“Mindlance is an Equal Opportunity Employer and does not discriminate in employment on the basis of – Minority/Gender/Disability/Religion/LGBTQI/Age/Veterans.”'"
      ]
     },
     "metadata": {},
     "output_type": "display_data"
    },
    {
     "name": "stdout",
     "output_type": "stream",
     "text": [
      "Score: 0.220\n"
     ]
    }
   ],
   "source": [
    "query = summaries[i]['summary']\n",
    "roles = summaries[i]['interested_roles']\n",
    "\n",
    "response = jobs_collection.query.hybrid(query=query,\n",
    "                                        query_properties=['description^2', 'skills', 'industry'],\n",
    "                                        fusion_type=wvc.query.HybridFusion.RELATIVE_SCORE,\n",
    "                                        target_vector='description_vector',\n",
    "                                        vector=wvc.query.HybridVector.near_text(query=query, move_to=wvc.query.Move(force=0.5, concepts=roles)),\n",
    "                                        return_metadata=wvc.query.MetadataQuery(score=True),\n",
    "                                        alpha=0.6,\n",
    "                                        limit=50,\n",
    "                                        auto_limit=4,\n",
    "                                        rerank=wvc.query.Rerank(prop='description', query=query)\n",
    "                                        )\n",
    "\n",
    "print('QUERY:\\n',query)\n",
    "print('\\nRETRIEVAL:')\n",
    "\n",
    "for object in response.objects[:5]:\n",
    "    display(object.properties['title'])\n",
    "    display(object.properties['description'])\n",
    "    print(f'Score: {object.metadata.score:.3f}')"
   ]
  },
  {
   "cell_type": "code",
   "execution_count": null,
   "metadata": {},
   "outputs": [],
   "source": []
  }
 ],
 "metadata": {
  "kernelspec": {
   "display_name": "weaviate",
   "language": "python",
   "name": "python3"
  },
  "language_info": {
   "codemirror_mode": {
    "name": "ipython",
    "version": 3
   },
   "file_extension": ".py",
   "mimetype": "text/x-python",
   "name": "python",
   "nbconvert_exporter": "python",
   "pygments_lexer": "ipython3",
   "version": "3.11.9"
  }
 },
 "nbformat": 4,
 "nbformat_minor": 2
}
