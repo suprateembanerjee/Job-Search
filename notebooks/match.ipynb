{
 "cells": [
  {
   "cell_type": "code",
   "execution_count": 8,
   "metadata": {},
   "outputs": [],
   "source": [
    "import weaviate\n",
    "import weaviate.classes as wvc\n",
    "from weaviate.classes.config import Property, DataType\n",
    "from weaviate.connect import ConnectionParams\n",
    "from weaviate.util import generate_uuid5\n",
    "import ollama\n",
    "import os\n",
    "import pickle\n",
    "import json"
   ]
  },
  {
   "cell_type": "code",
   "execution_count": 3,
   "metadata": {},
   "outputs": [],
   "source": [
    "client = weaviate.connect_to_local(additional_config=wvc.init.AdditionalConfig(timeout=(60, 7500)))"
   ]
  },
  {
   "cell_type": "markdown",
   "metadata": {},
   "source": [
    "## Jobs"
   ]
  },
  {
   "cell_type": "code",
   "execution_count": 5,
   "metadata": {},
   "outputs": [
    {
     "data": {
      "text/plain": [
       "87178"
      ]
     },
     "execution_count": 5,
     "metadata": {},
     "output_type": "execute_result"
    }
   ],
   "source": [
    "with open('../data/jobs.json') as f:\n",
    "    jobs = json.load(f)\n",
    "\n",
    "len(jobs)"
   ]
  },
  {
   "cell_type": "code",
   "execution_count": 6,
   "metadata": {},
   "outputs": [
    {
     "data": {
      "text/plain": [
       "{'job_id': '1218575',\n",
       " 'company_name': \"Children's Nebraska\",\n",
       " 'title': 'Respiratory Therapist',\n",
       " 'description': \"At Children’s, the region’s only full-service pediatric healthcare center, our people make us the very best for kids. Come cultivate your passion, purpose and professional development in an environment of excellence and inclusion, where team members are supported and deeply valued. Opportunities for career growth abound as we grow our services and spaces, including the cutting-edge Hubbard Center for Children. Join our highly engaged, caring team—and join us in providing brighter, healthier tomorrows for the children we serve. Children's is committed to diversity and inclusion. We are an equal opportunity employer including veterans and people with disabilities.\\nA Brief OverviewProvides appropriate respiratory care specific to the pediatric population in accordance with the hospital policy/procedure. Assesses, plans and implements appropriate respiratory plan of care based on the cardiopulmonary needs of the patients. Evaluates effectiveness of plan of care and recommends revisions to the multidisciplinary care team\\nEssential Functions• Set up and operate devices such as mechanical ventilators, therapeutic gas administration apparatus, environmental control systems, and aerosol generators, following specified parameters of treatment. • Determine requirements for treatment, such as type, methods and duration of therapy, precautions to be taken, and medication and dosages, compatible with physician’s orders. • Read physicians’ orders, measure arterial blood gases, and review patient information to assess patient’s condition. • Explain treatment procedures to patients to gain cooperation and allay fears. • Monitor patient’s physiological responses to therapy such as vital signs, arterial blood gases and blood chemistry changes and consult with physician if adverse reactions occur. • Administer therapeutic gases including nitrogen, nitric oxide, heliox, etc. • Enforce safety rules and ensure careful adherence to physicians’ orders. • Maintain charts that contain patient pertinent identification and therapy information. • Inspect, clean, test, and maintain respiratory therapy equipment to ensure equipment is functioning safely and efficiently and notify manager/supervisor when repairs are necessary. • Educate patients and/or their families about the patient’s condition and teach appropriate disease management techniques such as breathing exercises and the use of medications and respiratory equipment. • Perform broncho-pulmonary drainage and assist or instruct patients in performance of breathing exercises. • Conduct lung capacity tests to evaluate patient’s cardiopulmonary functions. • Provide emergency care, including artificial respiration, external cardiac massage and assistance with cardiopulmonary resuscitation. • Complete all required respiratory therapy competency tests within specified timeline. • Demonstrate competency in identified technical skills for the respiratory department at the specific work area.Other duties may also include Clinical Instructor (schedule dependent on the contract with Respiratory Therapy schools): • Supervise contracted Respiratory Therapy (RT) students from specified schools in the clinical hospital setting. • Orients RT students to their role in the hospital, which includes scope of service, policies and procedures, patient safety, and professionalism. • Orients RT students to the equipment used by RT at Children’s. • Provides opportunities for directly supervised hands on learning in the clinical setting. • Responsible for accurate completion and documentation of all Respiratory Therapy performed with RT students. • Responsible for accurate “Hand off” of patient information and ordered Respiratory Therapy performed with RT students.Regular attendance at work is an essential function of the job.Perform physical requirements as described in the Physical Requirements section\\nEducation QualificationsGraduate of an accredited AMA approved school of respiratory care accredited by the National Board of Respiratory Care Required andBachelor's Degree From an AMA approved accredited school in respiratory care PreferredExperience QualificationsMinimum 1 year experience in respiratory therapy Preferred andExperience working with pediatric patients PreferredSkills and AbilitiesDemonstrates competency in technical skills related to the Respiratory Therapy department.Licenses and CertificationsRCP - Licensed Respiratory Care Practitioner Current and valid Nebraska license as a Respiratory Care Practitioner Required andBCLS - Basic Life Support through the American Heart Association Required andRRT - Registered Respiratory Therapist Current and valid National Registered Respiratory Therapist (RRT) credential within 1 Year Required andCurrent and valid National Registered Neonatal/Pediatric Respiratory Therapist (RRT-NPS) credential within three years of hire. Required andPALS - Pediatric Advanced Life Support within 180 Days Required\\nChildren’s is the very best for kids and the very best for your career! At Children’s, we put YOU first so together, we can improve the life of every child!• Requires the ability to communicate effective, both verbally and in writing • Requires basic computer skills \\n\\nEDUCATION AND EXPERIENCE: \\n\\n• Graduate of an accredited school of occupational therapy • Must possess current valid Nebraska State License in Occupational Therapy • Must possess current valid registration by the NBCOT ( National Board for Certification in Occupational Therapy) • Must be certified in Basic Life Support • Experience with pediatric patients preferred\",\n",
       " 'location': 'Nebraska',\n",
       " 'type': 'Full-time',\n",
       " 'remote': False,\n",
       " 'skills': 'Health Care Provider',\n",
       " 'industry': 'Hospitals and Health Care',\n",
       " 'application_url': 'www.childrensnebraska.org'}"
      ]
     },
     "execution_count": 6,
     "metadata": {},
     "output_type": "execute_result"
    }
   ],
   "source": [
    "jobs[0]"
   ]
  },
  {
   "cell_type": "code",
   "execution_count": 7,
   "metadata": {},
   "outputs": [
    {
     "name": "stdout",
     "output_type": "stream",
     "text": [
      "Dropping pre-exisiting collection\n",
      "Inserted data!\n"
     ]
    }
   ],
   "source": [
    "if client.collections.exists('Jobs'):\n",
    "    print('Dropping pre-exisiting collection')\n",
    "    client.collections.delete('Jobs')\n",
    "    \n",
    "jobs_collection = client.collections.create(name='Jobs',\n",
    "                                            description='various job postings',\n",
    "                                            vectorizer_config=[wvc.config.Configure.NamedVectors.text2vec_ollama(api_endpoint='http://host.docker.internal:11434',\n",
    "                                                                                                                 model='nomic-embed-text',\n",
    "                                                                                                                 vector_index_config=wvc.config.Configure.VectorIndex.hnsw(quantizer=wvc.config.Configure.VectorIndex.Quantizer.bq(),\n",
    "                                                                                                                                                                           distance_metric=wvc.config.VectorDistances.L2_SQUARED),\n",
    "                                                                                                                 name='description_vector', \n",
    "                                                                                                                 source_properties=['description', 'skills', 'industry', 'title'], \n",
    "                                                                                                                 vectorize_collection_name=False)],\n",
    "                                            generative_config=wvc.config.Configure.Generative.ollama(api_endpoint='http://host.docker.internal:11434', model='llama3'),\n",
    "                                            reranker_config=wvc.config.Configure.Reranker.cohere(model='rerank-english-v3.0'),\n",
    "                                            properties=[wvc.config.Property(name='job_id', data_type=wvc.config.DataType.TEXT),\n",
    "                                                        wvc.config.Property(name='company_name', data_type=wvc.config.DataType.TEXT),\n",
    "                                                        wvc.config.Property(name='title', data_type=wvc.config.DataType.TEXT),\n",
    "                                                        wvc.config.Property(name='description', data_type=wvc.config.DataType.TEXT, tokenization=wvc.config.Tokenization.WHITESPACE),\n",
    "                                                        wvc.config.Property(name='location', data_type=wvc.config.DataType.TEXT),\n",
    "                                                        wvc.config.Property(name='type', data_type=wvc.config.DataType.TEXT),\n",
    "                                                        wvc.config.Property(name='remote', data_type=wvc.config.DataType.BOOL),\n",
    "                                                        wvc.config.Property(name='skills', data_type=wvc.config.DataType.TEXT),\n",
    "                                                        wvc.config.Property(name='industry', data_type=wvc.config.DataType.TEXT),\n",
    "                                                        wvc.config.Property(name='application_url', data_type=wvc.config.DataType.TEXT)])\n",
    "\n",
    "with jobs_collection.batch.dynamic() as batch:\n",
    "    for job in jobs:\n",
    "        obj_uuid = generate_uuid5(job)\n",
    "        batch.add_object(properties=job,\n",
    "                         uuid=obj_uuid)\n",
    "print('Inserted data!')"
   ]
  },
  {
   "cell_type": "code",
   "execution_count": 21,
   "metadata": {},
   "outputs": [
    {
     "name": "stdout",
     "output_type": "stream",
     "text": [
      "Dropping pre-exisiting collection\n",
      "Inserted data!\n"
     ]
    }
   ],
   "source": [
    "# if client.collections.exists('Roles'):\n",
    "#     print('Dropping pre-exisiting collection')\n",
    "#     client.collections.delete('Roles')\n",
    "    \n",
    "# roles_collection = client.collections.create(name='Roles',\n",
    "#                                             description='Distinct roles',\n",
    "#                                             vectorizer_config=[wvc.config.Configure.NamedVectors.text2vec_ollama(api_endpoint='http://host.docker.internal:11434',\n",
    "#                                                                                                                  model='nomic-embed-text',\n",
    "#                                                                                                                  vector_index_config=wvc.config.Configure.VectorIndex.flat(quantizer=wvc.config.Configure.VectorIndex.Quantizer.bq(),\n",
    "#                                                                                                                                                                            distance_metric=wvc.config.VectorDistances.L2_SQUARED),\n",
    "#                                                                                                                  name='role_vector', \n",
    "#                                                                                                                  source_properties=['role'], \n",
    "#                                                                                                                  vectorize_collection_name=False)],\n",
    "#                                             properties=[wvc.config.Property(name='role', data_type=wvc.config.DataType.TEXT)])\n",
    "\n",
    "# roles_collection.data.insert_many(roles)\n",
    "# print('Inserted data!')"
   ]
  },
  {
   "cell_type": "code",
   "execution_count": 22,
   "metadata": {},
   "outputs": [
    {
     "data": {
      "text/plain": [
       "{'industry': 'Medical Equipment Manufacturing'}"
      ]
     },
     "execution_count": 22,
     "metadata": {},
     "output_type": "execute_result"
    }
   ],
   "source": [
    "# with open('../data/industries.pkl', 'rb') as f:\n",
    "#     industries = pickle.load(f)\n",
    "# industries = [{'industry': industry} for industry in industries]\n",
    "# industries[0]"
   ]
  },
  {
   "cell_type": "code",
   "execution_count": 43,
   "metadata": {},
   "outputs": [
    {
     "data": {
      "text/plain": [
       "422"
      ]
     },
     "execution_count": 43,
     "metadata": {},
     "output_type": "execute_result"
    }
   ],
   "source": [
    "# len(industries)"
   ]
  },
  {
   "cell_type": "code",
   "execution_count": 44,
   "metadata": {},
   "outputs": [
    {
     "name": "stdout",
     "output_type": "stream",
     "text": [
      "Dropping pre-exisiting collection\n",
      "Inserted data!\n"
     ]
    }
   ],
   "source": [
    "# if client.collections.exists('Industries'):\n",
    "#     print('Dropping pre-exisiting collection')\n",
    "#     client.collections.delete('Industries')\n",
    "    \n",
    "# industries_collection = client.collections.create(name='Industries',\n",
    "#                                             description='distinct industries',\n",
    "#                                             vectorizer_config=[wvc.config.Configure.NamedVectors.text2vec_ollama(api_endpoint='http://host.docker.internal:11434',\n",
    "#                                                                                                                  model='nomic-embed-text',\n",
    "#                                                                                                                  vector_index_config=wvc.config.Configure.VectorIndex.flat(),\n",
    "#                                                                                                                  name='industry_vector', \n",
    "#                                                                                                                  source_properties=['industry'], \n",
    "#                                                                                                                  vectorize_collection_name=False)],\n",
    "#                                             properties=[wvc.config.Property(name='industry', data_type=wvc.config.DataType.TEXT)])\n",
    "\n",
    "# industries_collection.data.insert_many(industries)\n",
    "# print('Inserted data!')"
   ]
  },
  {
   "cell_type": "code",
   "execution_count": 26,
   "metadata": {},
   "outputs": [],
   "source": [
    "with open('../data/extracted_summaries.json') as f:\n",
    "    summaries = json.load(f)"
   ]
  },
  {
   "cell_type": "code",
   "execution_count": 27,
   "metadata": {},
   "outputs": [
    {
     "data": {
      "text/plain": [
       "{'skills': ['Python',\n",
       "  'C++',\n",
       "  'Java',\n",
       "  'R',\n",
       "  'SQL',\n",
       "  'Keras',\n",
       "  'PyTorch',\n",
       "  'Tensorflow',\n",
       "  'Flask',\n",
       "  'FastAPI',\n",
       "  'AWS',\n",
       "  'Azure',\n",
       "  'Docker',\n",
       "  'NATS',\n",
       "  'Git',\n",
       "  'Jira'],\n",
       " 'location': '',\n",
       " 'role_type': 'Flexible',\n",
       " 'interested_roles': ['Machine Learning Engineer'],\n",
       " 'industries': ['Healthcare', 'EdTech', 'Supply Chain'],\n",
       " 'remote': 'Flexible',\n",
       " 'team_fit': \"I would excel at a team that values innovation, collaboration, and continuous learning. A team that is passionate about applying AI to real-world problems and making a positive impact on people's lives.\",\n",
       " 'summary': 'As a Machine Learning Engineer at Chegg, I apply my passion and expertise in Generative AI, Natural Language Processing, and Deep Learning to develop state-of-the-art AI applications that empower students and educators. I have built deep learning models for question answering, topic prediction, and author extraction, leveraging LLMs, CNNs, and traditional ML models. I am currently working on CheggMate, a revolutionary AI-powered study assistant that powers student learning experiences and helps them master any subject. I have a Master of Science in Computer Science, specializing in Artificial Intelligence, from Northeastern University, where I gained a solid foundation in Deep Learning, Machine Learning, Computer Vision, and Natural Language Processing. I also have 2.5 years of experience in Research and Applied AI in Healthcare, EdTech, and supply chain, working with fast-paced startups and prominent Big Tech corporations. I have strong skills in Python, C++, Java, R, SQL, Keras, PyTorch, Tensorflow, Flask, FastAPI, AWS, Azure, Docker, NATS, Git, Jira, and more. I am an avid learner, conscious of the latest trends in AI and technology, and I enjoy giving tech talks and sharing my insights with the community.'}"
      ]
     },
     "execution_count": 27,
     "metadata": {},
     "output_type": "execute_result"
    }
   ],
   "source": [
    "i = 2\n",
    "summaries[i]"
   ]
  },
  {
   "cell_type": "code",
   "execution_count": 28,
   "metadata": {},
   "outputs": [
    {
     "name": "stdout",
     "output_type": "stream",
     "text": [
      "QUERY:\n",
      " As a Machine Learning Engineer at Chegg, I apply my passion and expertise in Generative AI, Natural Language Processing, and Deep Learning to develop state-of-the-art AI applications that empower students and educators. I have built deep learning models for question answering, topic prediction, and author extraction, leveraging LLMs, CNNs, and traditional ML models. I am currently working on CheggMate, a revolutionary AI-powered study assistant that powers student learning experiences and helps them master any subject. I have a Master of Science in Computer Science, specializing in Artificial Intelligence, from Northeastern University, where I gained a solid foundation in Deep Learning, Machine Learning, Computer Vision, and Natural Language Processing. I also have 2.5 years of experience in Research and Applied AI in Healthcare, EdTech, and supply chain, working with fast-paced startups and prominent Big Tech corporations. I have strong skills in Python, C++, Java, R, SQL, Keras, PyTorch, Tensorflow, Flask, FastAPI, AWS, Azure, Docker, NATS, Git, Jira, and more. I am an avid learner, conscious of the latest trends in AI and technology, and I enjoy giving tech talks and sharing my insights with the community.\n",
      "\n",
      "RETRIEVAL:\n"
     ]
    },
    {
     "data": {
      "text/plain": [
       "' Sr GenAI / Machine Learning Engineer'"
      ]
     },
     "metadata": {},
     "output_type": "display_data"
    },
    {
     "data": {
      "text/plain": [
       "\"Responsibilities:\\nDesign and implement machine learning models and algorithms to address business challenges, with a focus on Generative AI applications.Collaborate with data scientists and domain experts to understand requirements, gather data, and develop solutions that meet business objectives.Develop and maintain scalable and efficient codebase for training, testing, and deploying machine learning models in production environments.Conduct research and experiment with new techniques and algorithms to improve model performance and accuracy.Work closely with software engineers and DevOps teams to integrate machine learning models into existing systems and infrastructure.Collaborate with stakeholders to understand feedback and iterate on machine learning models to continuously improve performance and user experience.Mentor junior team members and provide technical guidance and support on machine learning best practices and methodologies.Stay up-to-date with the latest advancements in machine learning and AI technologies, and proactively identify opportunities for applying them to solve business problems.\\nQualifications:\\nUS Citizenship required for this roleBachelor's or Master's degree in Computer Science, Engineering, Mathematics, or a related field.10+ years of hands-on experience in developing and deploying machine learning models and algorithms, with a focus on Generative AI.Proficiency in programming languages such as Python, with experience in machine learning libraries such as OpenAI, TensorFlow, PyTorch, or Keras.Strong understanding of machine learning concepts and algorithms, including deep learning frameworks, reinforcement learning, and natural language processing.Experience with cloud platforms such as AWS, Azure, or Google Cloud for deploying machine learning models at scale.Solid understanding of software engineering principles and best practices, including version control, testing, and deployment pipelines.Excellent problem-solving skills and ability to think creatively to develop innovative solutions to complex problems.Strong communication and collaboration skills, with the ability to work effectively in a cross-functional team environment.Proven track record of delivering high-quality machine learning solutions on time and within budget in a fast-paced and dynamic environment.\""
      ]
     },
     "metadata": {},
     "output_type": "display_data"
    },
    {
     "name": "stdout",
     "output_type": "stream",
     "text": [
      "Score: 0.530\n"
     ]
    },
    {
     "data": {
      "text/plain": [
       "'Senior Machine Learning Engineer, Generative AI'"
      ]
     },
     "metadata": {},
     "output_type": "display_data"
    },
    {
     "data": {
      "text/plain": [
       "\"Join a leading fintech company that’s democratizing finance for all.\\n\\nRobinhood was founded on a simple idea: that our financial markets should be accessible to all. With customers at the heart of our decisions, Robinhood is lowering barriers and providing greater access to financial information. Together, we are building products and services that help create a financial system everyone can participate in.\\n\\nAs we continue to build...\\n\\nWe’re seeking curious, growth minded thinkers to help shape our vision, structures and systems; playing a key-role as we launch into our ambitious future. If you’re invigorated by our mission, values, and drive to change the world — we’d love to have you apply.\\n\\nAbout the team + role \\n\\nWe are seeking a dedicated and ambitious individual to accelerate the development and expansion of products powered by Gen AI to democratize finance at an unprecedented pace. In this role, you'll play a key part in Robinhood’s forward trajectory, collaborating closely with our adept Data Science and Engineering teams. The Gen AI team is devoted to bridging the transition of Gen AI & ML modeling work into production-grade applications. Robinhood operates at the intersection of data-driven insights and technological innovation.\\n\\nThe role is located in the office location(s) listed on this job description which will align with our in-office working environment. Please connect with your recruiter for more information regarding our in-office philosophy and expectations.\\n\\nWhat You'll Do\\n\\nIn your role as a Senior Machine Learning Engineer, you will focus on leveraging and optimizing Large Language Models (LLMs) along with the implementation of advanced AI technologies. Your key responsibilities will include:\\n\\nDevelopment and Optimization of LLMs: Implement and fine-tune state-of-the-art Large Language Models for various applications, focusing on performance and accuracy.Evaluating Model Performance: Conduct rigorous evaluations of LLMs, assessing effectiveness, efficiency, and business alignment.Integration of Advanced AI Technologies: Implement Retrieval-Augmented Generation (RAG), function calling, and code interpreter technologies to enhance the capabilities of Large Language Models.Research and Development: Stay abreast of the latest advancements in machine learning, particularly in LLMs, LLM agents, and large-scale neural network training.Data and Model Parallel Training: Utilize data and model parallel training techniques for efficient handling of large-scale models.GPU Cluster Management for Training: Oversee extensive training jobs on GPU clusters, ensuring optimal resource utilization for complex tasks.Cross-Functional Collaboration and Leadership: Work with ML engineers, data scientists, and product teams, providing guidance and mentorship.Documentation and Reporting: Maintain detailed documentation of methodologies, models, and results, and communicate findings across the organization.\\n\\nWhat You Bring\\n\\nAdvanced Degree: Master's or PhD in Computer Science, AI, Linguistics, or related fields, with a focus on machine learning and natural language processing.Experience with LLMs and PyTorch: Extensive experience with large language models and proficiency in PyTorch.Expertise in Parallel Training and GPU Cluster Management: Strong background in parallel training methods and managing large-scale training jobs on GPU clusters.Analytical and Problem-Solving Skills: Ability to address complex challenges in model training and optimization.Leadership and Mentorship Capabilities: Proven leadership in guiding projects and mentoring team members.Communication and Collaboration Skills: Effective communication skills for conveying technical concepts and collaborating with cross-functional teams.Innovation and Continuous Learning: Passion for staying updated with the latest trends in AI and machine learning.\\n\\nWhat We Offer\\n\\nMarket competitive and pay equity-focused compensation structure100% paid health insurance for employees with 90% coverage for dependentsAnnual lifestyle wallet for personal wellness, learning and development, and more!Lifetime maximum benefit for family forming and fertility benefitsDedicated mental health support for employees and eligible dependentsGenerous time away including company holidays, paid time off, sick time, parental leave, and more!Lively office environment with catered meals, fully stocked kitchens, and geo-specific commuter benefits\\n\\nBase pay for the successful applicant will depend on a variety of job-related factors, which may include education, training, experience, location, business needs, or market demands. The expected salary range for this role is based on the location where the work will be performed and is aligned to one of 3 compensation zones. This role is also eligible to participate in a Robinhood bonus plan and Robinhood’s equity plan. For other locations not listed, compensation can be discussed with your recruiter during the interview process.\\n\\nZone 1 (Menlo Park, CA; New York, NY; Bellevue, WA; Washington, DC)\\n\\n$187,000—$220,000 USD\\n\\nZone 2 (Denver, CO; Westlake, TX; Chicago, IL)\\n\\n$165,000—$194,000 USD\\n\\nZone 3 (Lake Mary, FL)\\n\\n$146,000—$172,000 USD\\n\\nClick Here To Learn More About Robinhood’s Benefits.\\n\\nWe’re looking for more growth-minded and collaborative people to be a part of our journey in democratizing finance for all. If you’re ready to give 100% in helping us achieve our mission—we’d love to have you apply even if you feel unsure about whether you meet every single requirement in this posting. At Robinhood, we're looking for people invigorated by our mission, values, and drive to change the world, not just those who simply check off all the boxes.\\n\\nRobinhood embraces a diversity of backgrounds and experiences and provides equal opportunity for all applicants and employees. We are dedicated to building a company that represents a variety of backgrounds, perspectives, and skills. We believe that the more inclusive we are, the better our work (and work environment) will be for everyone. Additionally, Robinhood provides reasonable accommodations for candidates on request and respects applicants' privacy rights. To review Robinhood's Privacy Policy please review the specific policy applicable to your country.\""
      ]
     },
     "metadata": {},
     "output_type": "display_data"
    },
    {
     "name": "stdout",
     "output_type": "stream",
     "text": [
      "Score: 0.279\n"
     ]
    },
    {
     "data": {
      "text/plain": [
       "'Lead Machine Learning Engineer'"
      ]
     },
     "metadata": {},
     "output_type": "display_data"
    },
    {
     "data": {
      "text/plain": [
       "\"Who We Are\\n\\nWe are a small deep-tech startup with specialized capacities in behavior change solutions, offering a proven combination of behavioral psychology, data analytics, and digital communications. Our company focuses effectively on creating science-based solutions that tend to embrace social purpose and enhance the quality of people’s lives by creating a variety of products that use cutting-edge machine learning and data science methods to model, segment, and create the products.\\n\\nWe are seeking a Lead Machine Learning Engineer interested in solving the most challenging problems leveraging Machine Learning, especially Natural Language Processing (NLP) and Natural Language Understanding (NLU), and information retrieval including topical classification, sentiment analysis, and behaviors (user intent detection). Looking for people curious and love problem-solving. You have to like building end-to-end products that have a focus on ethics and reliability.\\n\\nWe are looking for Senior Machine Learning Engineers who assist the Data Science team in analyzing large amounts of data to find patterns and solutions that will provide insights used for solving complex problems. Work will require working in teams to solve large, complex problems to achieve interrelated and interdependent objectives. The Senior Machine Learning Engineer must be self-directed and comfortable supporting the requirements of the machine learning platform.\\n\\nResponsibilities\\n\\nImplementing and operating machine learning algorithmsRunning AI systems experiments and testsDesigning and developing machine learning systemsPerforming statistical analyses\\n\\nData Collection And Preprocessing\\n\\nGather, clean, and preprocess large datasets to make them suitable for machine learning tasks.Collaborate with data engineers and data scientists to ensure data quality and availability.Model Development:Design, build, and train machine learning models using state-of-the-art techniques and frameworks.Experiment with different algorithms and architectures to achieve optimal results.\\n\\nFeature Engineering\\n\\nCreate and select relevant features from data to improve model performance.Utilize domain knowledge to engineer features that capture important patterns.Model Deployment:Deploy machine learning models into production environments.Work closely with DevOps teams to ensure scalability, reliability, and security.\\n\\nMonitoring And Optimization\\n\\nImplement monitoring solutions to track model performance in real-time.Continuously fine-tune and optimize models to maintain or improve accuracy.Collaboration and Communication:Collaborate with cross-functional teams, including data scientists, software engineers, and domain experts.Clearly communicate technical findings and insights to both technical and non-technical stakeholders.\\n\\nResearch And Innovation\\n\\nStay up-to-date with the latest developments in machine learning and artificial intelligence.Experiment with emerging technologies and techniques to drive innovation within the organization.\\n\\nQualifications\\n\\nThe ideal candidate will have a background in Python, have experience working with large data sets, annotating and formatting data for ML, and have experience in building Machine Learning Platforms, applying Machine Learning, and deploying data-driven solutionsMaster's or PhD degree in Computer Science, Machine Learning, Data Science, or a related field (Ph.D. preferred).Proven experience (7+ years) as a Machine Learning Engineer or a similar role.Proficiency in machine learning frameworks (e.g., TensorFlow, PyTorch) and programming languages like Python, Java, Golang, and Scala. Strong knowledge of machine learning algorithms, deep learning, and statistical modeling.Experience with data pre-processing, feature engineering, and model deployment.Demonstrated strength in data modeling, ETL development, and data warehousingExperience using big data technologies (PostgresDB, Airflow, Kubernetes, Docker, Spark, Data Lakes, TensorFlow)Experience delivering end-to-end projects independently.Experience using business intelligence reporting tools (SuperSet, Power BI, Tableau, etc.).Knowledge of data management fundamentals and data storage principles.Experience with data pipelines and stream-processing systems Knowledge of distributed systems as it pertains to data storage and computing.Proven success in communicating with end-users, technical teams, and senior management to collect requirements, and describe data modeling decisions and data engineering strategy.Knowledge of software engineering best practices across the development life-cycle, including agile methodologies, coding standards, code reviews, version control, build processes, testing, and observability.\\n\\nSalary: $200k - $250/yr plus bonus and equity.\""
      ]
     },
     "metadata": {},
     "output_type": "display_data"
    },
    {
     "name": "stdout",
     "output_type": "stream",
     "text": [
      "Score: 0.247\n"
     ]
    },
    {
     "data": {
      "text/plain": [
       "'Senior AI Deep Learning Engineer - REMOTE'"
      ]
     },
     "metadata": {},
     "output_type": "display_data"
    },
    {
     "data": {
      "text/plain": [
       "\"Dice is the leading career destination for tech experts at every stage of their careers. Our client, Perficient, Inc., is seeking the following. Apply via Dice today!\\n\\nWe currently have an exciting career opportunity for a Senior AI Deep Learning Engineer. While our headquarters location is St. Louis, MO, this position is remote and can be based anywhere within the United States and will be working ET zones.\\n\\nPerficient is always looking for the best and brightest talent and we need you! We're a quickly-growing, global digital consulting leader, and we're transforming the world's largest enterprises and biggest brands. You'll work with the latest technologies, expand your skills, and become a part of our global community of talented, diverse, and knowledgeable colleagues.\\n\\nPerficient is always looking for the best and brightest talent and we need you! We're a quickly growing, global digital consulting leader, and we're transforming the world's largest enterprises and biggest brands. You'll work with the latest technologies, expand your skills, experience work-life balance, and become a part of our global community of talented, diverse, and knowledgeable colleagues.\\n\\nMachine Learning Development\\n\\nMaintains, as well as furthers, enhances existing machine learning modules for automotive applications including autonomous vehicles.Designs and implements new machine learning based approaches based on existing frameworks.Keeps up to speed with the state of the art of academic research and AI/ML technology in the Automotive industry.Applies industry and technology expertise to real business problems.Coordinates with automotive engineers and autonomous driving software experts.Transfers technologies and solutions to automotive OEM development divisions.\\n\\nData Engineering and Pipelines:\\n\\nUnderstand business context and wrangles large, complex datasets.Create repeatable, reusable code for data preprocessing, feature engineering, and model training.Build robust ML pipelines using Google Vertex AI, BigQuery and other Google Cloud Platform services.\\n\\nResponsible AI and Fairness:\\n\\nConsider ethical implications and fairness throughout the ML model development process.Collaborate with other roles (such as data engineers, product managers, and business analysts) to ensure long-term success.\\n\\nInfrastructure and MLOps:\\n\\nWork with infrastructure as code to manage cloud resources.Implement CI/CD pipelines for model deployment and monitoring.Monitor and improve ML solutions.Implement MLOps using Vertex AI pipelines on the Google Cloud Platform platform.\\n\\nProcess Documentation and Representation\\n\\nDevelops technical specifications and documentation.Represents the Customer in the technical community, such as at conferences.7 - 10 years of professional experience REQUIRED5+ years' Deep Learning experience REQUIREDMaster's Degree in Computer Science or equivalent.PhD Strongly Preferred. \\n\\nRequired Skills\\n\\nStrong communication skills must be able to describe and explain complex AI/ML concepts and models to business leaders.Desire and ability to work effectively within a group or team.Strong knowledge of different machine learning algorithms.Deep Learning: Proficiency in deep learning techniques and frameworksMachine Learning: Strong understanding of traditional machine learning algorithms and their applications.Computer Vision: Expertise in computer vision, including object detection, image segmentation, and image recognitionProficiency in NLP techniques, including sentiment analysis, text generation, and language understanding models. Experience with multimodal language modeling and applications.Neural Network Architectures: Deep understanding of various neural network architectures such as CNNs, RNNs, and Transformers.Reinforcement Learning: Familiarity with reinforcement learning algorithms and their applications in AI.\\\\Data Preprocessing: Skills in data cleaning, feature engineering, and data augmentation.Model Training And Tuning: Experience in training, fine-tuning, and optimizing AI models.Model Deployment: Knowledge of model deployment techniques, including containerization (Docker) and orchestration (Kubernetes).Understanding of Generative AI concepts and LLM Models tailored to a wide variety of automotive applications.Strong documentation skills for model architecture, code, and processes.\\n\\nDesired Skills\\n\\nAI Ethics: Awareness of ethical considerations in AI, including bias mitigation and fairness.Legal And Regulatory Knowledge: Understanding of AI-related legal and regulatory considerations, including data privacy and intellectual property.Data Management: Proficiency in data storage and management systems, including databases and data lakes.Cloud Computing: Familiarity with Google Cloud Platform. Experience with Google Cloud Platform, Vertex AI and BigQuery is a plus.\\n\\nThe salary range for this position takes into consideration a variety of factors, including but not limited to skill sets, level of experience, applicable office location, training, licensure and certifications, and other business and organizational needs. The new hire salary range displays the minimum and maximum salary targets for this position across all US locations, and the range has not been adjusted for any specific state differentials. It is not typical for a candidate to be hired at or near the top of the range for their role, and compensation decisions are dependent on the unique facts and circumstances regarding each candidate. A reasonable estimate of the current salary range for this position is $92,118 to $202,730. Please note that the salary range posted reflects the base salary only and does not include benefits or any potential equity or variable bonus programs. Information regarding the benefits available for this position are in our benefits overview.\\n\\nWho We Are\\n\\nPerficient is a leading global digital consultancy. We imagine, create, engineer, and run digital transformation solutions that help our clients exceed customers' expectations, outpace competition, and grow their business. With unparalleled strategy, creative, and technology capabilities, our colleagues bring big thinking and innovative ideas, along with a practical approach to help our clients - the world's largest enterprises and biggest brands succeed.\\n\\nWhat We Believe\\n\\nAt Perficient, we promise to challenge, champion, and celebrate our people. You will experience a unique and collaborative culture that values every voice. Join our team, and you'll become part of something truly special.\\n\\nWe believe in developing a workforce that is as diverse and inclusive as the clients we work with. We're committed to actively listening, learning, and acting to further advance our organization, our communities, and our future leaders... and we're not done yet.\\n\\nPerficient, Inc. proudly provides equal employment opportunities (EEO) to all employees and applicants for employment without regard to race, color, religion, gender, sexual orientation, national origin, age, disability, genetic information, marital status, amnesty, or status as a protected veteran in accordance with applicable federal, state and local laws. Perficient, Inc. complies with applicable state and local laws governing non-discrimination in employment in every location in which the company has facilities. This policy applies to all terms and conditions of employment, including, but not limited to, hiring, placement, promotion, termination, layoff, recall, transfer, leaves of absence, compensation, and training. Perficient, Inc. expressly prohibits any form of unlawful employee harassment based on race, color, religion, gender, sexual orientation, national origin, age, genetic information, disability, or covered veterans. Improper interference with the ability of Perficient, Inc. employees to perform their expected job duties is absolutely not tolerated.\\n\\nApplications will be accepted until the position is filled or the posting removed.\\n\\nDisability Accommodations:\\n\\nPerficient is committed to providing a barrier-free employment process with reasonable accommodations for qualified individuals with disabilities and disabled veterans in our job application procedures. If you need assistance or accommodation due to a disability, please contact us.\\n\\nDisclaimer: The above statements are not intended to be a complete statement of job content, rather to act as a guide to the essential functions performed by the employee assigned to this classification. Management retains the discretion to add or change the duties of the position at any time. Cloud Platform Senior AI Deep Learning Engineer - REMOTE\\n\\n\""
      ]
     },
     "metadata": {},
     "output_type": "display_data"
    },
    {
     "name": "stdout",
     "output_type": "stream",
     "text": [
      "Score: 0.400\n"
     ]
    },
    {
     "data": {
      "text/plain": [
       "'Senior AI Deep Learning Engineer - REMOTE'"
      ]
     },
     "metadata": {},
     "output_type": "display_data"
    },
    {
     "data": {
      "text/plain": [
       "'Job Description\\n\\nWe currently have an exciting career opportunity for a Senior AI Deep Learning Engineer. While our headquarters location is St. Louis, MO, this position is remote and can be based anywhere within the United States and will be working ET zones.\\n\\nPerficient is always looking for the best and brightest talent and we need you! We’re a quickly-growing, global digital consulting leader, and we’re transforming the world’s largest enterprises and biggest brands. You’ll work with the latest technologies, expand your skills, and become a part of our global community of talented, diverse, and knowledgeable colleagues.\\n\\nResponsibilities\\n\\nMachine Learning Development\\n\\nMaintains, as well as furthers, enhances existing machine learning modules for automotive applications including autonomous vehicles. Designs and implements new machine learning based approaches based on existing frameworks. Keeps up to speed with the state of the art of academic research and AI/ML technology in the Automotive industry. Applies industry and technology expertise to real business problems. Coordinates with automotive engineers and autonomous driving software experts. Transfers technologies and solutions to automotive OEM development divisions. \\n\\nData Engineering and Pipelines:\\n\\nUnderstand business context and wrangles large, complex datasets. Create repeatable, reusable code for data preprocessing, feature engineering, and model training. Build robust ML pipelines using Google Vertex AI, BigQuery and other GCP services. \\n\\nResponsible AI and Fairness:\\n\\nConsider ethical implications and fairness throughout the ML model development process. Collaborate with other roles (such as data engineers, product managers, and business analysts) to ensure long-term success. \\n\\nInfrastructure and MLOps:\\n\\nWork with infrastructure as code to manage cloud resources. Implement CI/CD pipelines for model deployment and monitoring. Monitor and improve ML solutions. Implement MLOps using Vertex AI pipelines on the GCP platform. \\n\\nProcess Documentation and Representation\\n\\nDevelops technical specifications and documentation. Represents the Customer in the technical community, such as at conferences. \\n\\nQualifications\\n\\n7 - 10 years of professional experience REQUIRED5+ years’ Deep Learning experience REQUIREDMaster’s Degree in Computer Science or equivalent. PhD Strongly Preferred. \\n\\nRequired Skills\\n\\nStrong communication skills must be able to describe and explain complex AI/ML concepts and models to business leaders. Desire and ability to work effectively within a group or team. Strong knowledge of different machine learning algorithms. Deep Learning: Proficiency in deep learning techniques and frameworksMachine Learning: Strong understanding of traditional machine learning algorithms and their applications. Computer Vision: Expertise in computer vision, including object detection, image segmentation, and image recognitionProficiency in NLP techniques, including sentiment analysis, text generation, and language understanding models. Experience with multimodal language modeling and applications. Neural Network Architectures: Deep understanding of various neural network architectures such as CNNs, RNNs, and Transformers. Reinforcement Learning: Familiarity with reinforcement learning algorithms and their applications in AI.\\\\Data Preprocessing: Skills in data cleaning, feature engineering, and data augmentation. Model Training And Tuning: Experience in training, fine-tuning, and optimizing AI models. Model Deployment: Knowledge of model deployment techniques, including containerization (Docker) and orchestration (Kubernetes). Understanding of Generative AI concepts and LLM Models tailored to a wide variety of automotive applications. Strong documentation skills for model architecture, code, and processes. \\n\\nDesired Skills\\n\\nAI Ethics: Awareness of ethical considerations in AI, including bias mitigation and fairness. Legal And Regulatory Knowledge: Understanding of AI-related legal and regulatory considerations, including data privacy and intellectual property. Data Management: Proficiency in data storage and management systems, including databases and data lakes. Cloud Computing: Familiarity with Google Cloud Platform. Experience with GCP, Vertex AI and BigQuery is a plus. \\n\\nThe salary range for this position takes into consideration a variety of factors, including but not limited to skill sets, level of experience, applicable office location, training, licensure and certifications, and other business and organizational needs. The new hire salary range displays the minimum and maximum salary targets for this position across all US locations, and the range has not been adjusted for any specific state differentials. It is not typical for a candidate to be hired at or near the top of the range for their role, and compensation decisions are dependent on the unique facts and circumstances regarding each candidate. A reasonable estimate of the current salary range for this position is $92,118 to $202,730. Please note that the salary range posted reflects the base salary only and does not include benefits or any potential equity or variable bonus programs. Information regarding the benefits available for this position are in our benefits overview .\\n\\nWho We Are\\n\\nPerficient is a leading global digital consultancy. We imagine, create, engineer, and run digital transformation solutions that help our clients exceed customers’ expectations, outpace competition, and grow their business. With unparalleled strategy, creative, and technology capabilities, our colleagues bring big thinking and innovative ideas, along with a practical approach to help our clients – the world’s largest enterprises and biggest brands succeed.\\n\\nWhat We Believe\\n\\nAt Perficient, we promise to challenge, champion, and celebrate our people. You will experience a unique and collaborative culture that values every voice. Join our team, and you’ll become part of something truly special.\\n\\nWe believe in developing a workforce that is as diverse and inclusive as the clients we work with. We’re committed to actively listening, learning, and acting to further advance our organization, our communities, and our future leaders… and we’re not done yet.\\n\\nPerficient, Inc. proudly provides equal employment opportunities (EEO) to all employees and applicants for employment without regard to race, color, religion, gender, sexual orientation, national origin, age, disability, genetic information, marital status, amnesty, or status as a protected veteran in accordance with applicable federal, state and local laws. Perficient, Inc. complies with applicable state and local laws governing non-discrimination in employment in every location in which the company has facilities. This policy applies to all terms and conditions of employment, including, but not limited to, hiring, placement, promotion, termination, layoff, recall, transfer, leaves of absence, compensation, and training. Perficient, Inc. expressly prohibits any form of unlawful employee harassment based on race, color, religion, gender, sexual orientation, national origin, age, genetic information, disability, or covered veterans. Improper interference with the ability of Perficient, Inc. employees to perform their expected job duties is absolutely not tolerated.\\n\\nApplications will be accepted until the position is filled or the posting removed.\\n\\nDisability Accommodations:\\n\\nPerficient is committed to providing a barrier-free employment process with reasonable accommodations for qualified individuals with disabilities and disabled veterans in our job application procedures. If you need assistance or accommodation due to a disability, please contact us.\\n\\nDisclaimer: The above statements are not intended to be a complete statement of job content, rather to act as a guide to the essential functions performed by the employee assigned to this classification. Management retains the discretion to add or change the duties of the position at any time. \\n\\nAbout Us\\n\\nPerficient is always looking for the best and brightest talent and we need you! We’re a quickly growing, global digital consulting leader, and we’re transforming the world’s largest enterprises and biggest brands. You’ll work with the latest technologies, expand your skills, experience work-life balance, and become a part of our global community of talented, diverse, and knowledgeable colleagues.\\n\\n \\n\\nSelect work authorization questions to ask when applicants apply\\n\\n1. Are you legally authorized to work in the United States?\\n\\n2. Will you now, or in the future, require sponsorship for employment visa status (e.g. H-1B visa status)?'"
      ]
     },
     "metadata": {},
     "output_type": "display_data"
    },
    {
     "name": "stdout",
     "output_type": "stream",
     "text": [
      "Score: 0.386\n"
     ]
    }
   ],
   "source": [
    "query = summaries[i]['summary']\n",
    "roles = summaries[i]['interested_roles']\n",
    "\n",
    "response = jobs_collection.query.hybrid(query=query,\n",
    "                                        query_properties=['description^2', 'skills', 'title'],\n",
    "                                        fusion_type=wvc.query.HybridFusion.RELATIVE_SCORE,\n",
    "                                        target_vector='description_vector',\n",
    "                                        vector=wvc.query.HybridVector.near_text(query=query, move_to=wvc.query.Move(force=0.5, concepts=roles)),\n",
    "                                        return_metadata=wvc.query.MetadataQuery(score=True),\n",
    "                                        alpha=0.6,\n",
    "                                        limit=50,\n",
    "                                        auto_limit=4,\n",
    "                                        rerank=wvc.query.Rerank(prop='description', query=query)\n",
    "                                        )\n",
    "\n",
    "print('QUERY:\\n',query)\n",
    "print('\\nRETRIEVAL:')\n",
    "\n",
    "for object in response.objects[:5]:\n",
    "    display(object.properties['title'])\n",
    "    display(object.properties['description'])\n",
    "    print(f'Score: {object.metadata.score:.3f}')"
   ]
  },
  {
   "cell_type": "markdown",
   "metadata": {},
   "source": [
    "## Roles"
   ]
  },
  {
   "cell_type": "code",
   "execution_count": 85,
   "metadata": {},
   "outputs": [
    {
     "data": {
      "text/plain": [
       "{'role': 'QA Tester'}"
      ]
     },
     "execution_count": 85,
     "metadata": {},
     "output_type": "execute_result"
    }
   ],
   "source": [
    "with open('../data/roles.pkl', 'rb') as f:\n",
    "    roles = pickle.load(f)\n",
    "roles = [{'role': role} for role in roles]\n",
    "roles[0]"
   ]
  },
  {
   "cell_type": "code",
   "execution_count": 86,
   "metadata": {},
   "outputs": [
    {
     "name": "stdout",
     "output_type": "stream",
     "text": [
      "Dropping pre-exisiting collection\n",
      "Inserted data!\n"
     ]
    }
   ],
   "source": [
    "if client.collections.exists('Roles'):\n",
    "    print('Dropping pre-exisiting collection')\n",
    "    client.collections.delete('Roles')\n",
    "    \n",
    "roles_collection = client.collections.create(name='Roles',\n",
    "                                            description='Distinct roles',\n",
    "                                            vectorizer_config=[wvc.config.Configure.NamedVectors.text2vec_ollama(api_endpoint='http://host.docker.internal:11434',\n",
    "                                                                                                                 model='nomic-embed-text',\n",
    "                                                                                                                 vector_index_config=wvc.config.Configure.VectorIndex.flat(quantizer=wvc.config.Configure.VectorIndex.Quantizer.bq(),\n",
    "                                                                                                                                                                           distance_metric=wvc.config.VectorDistances.L2_SQUARED),\n",
    "                                                                                                                 name='role_vector', \n",
    "                                                                                                                 source_properties=['role'], \n",
    "                                                                                                                 vectorize_collection_name=False)],\n",
    "                                            properties=[wvc.config.Property(name='role', data_type=wvc.config.DataType.TEXT)])\n",
    "\n",
    "roles_collection.data.insert_many(roles)\n",
    "print('Inserted data!')"
   ]
  },
  {
   "cell_type": "code",
   "execution_count": 94,
   "metadata": {},
   "outputs": [
    {
     "data": {
      "text/plain": [
       "{'skills': ['Machine Learning',\n",
       "  'ML Operations',\n",
       "  'Keras',\n",
       "  'Tensorflow (core, JS, Lite)',\n",
       "  'Scikit-Learn',\n",
       "  'Computer Vision',\n",
       "  'Web Development',\n",
       "  'Django',\n",
       "  'Flask',\n",
       "  'CI/CD',\n",
       "  'Python/C/C++/Java',\n",
       "  'Cloud Tech (AWS, Azure, GCP)'],\n",
       " 'location': 'Flexible',\n",
       " 'role_type': 'Full-time',\n",
       " 'interested_roles': ['Software Engineering',\n",
       "  'Data Science',\n",
       "  'ML',\n",
       "  'DL',\n",
       "  'ML Ops'],\n",
       " 'industries': ['Flexible'],\n",
       " 'remote': 'Flexible',\n",
       " 'team_fit': 'This person would excel at a team that values innovation, collaboration, and adaptability. They are well-suited for a fast-paced environment with tight deadlines and have a keen eye for product and user experience.',\n",
       " 'summary': \"I have 3 years of experience in building Machine Learning/Deep Learning applications (web/mobile/edge) and designing pipelines for end-to-end ML deployments (ML Ops). Currently I'm pursuing my Masters Degree at Northeastern University (Boston, US), on track to graduate in May 2024 with a major in Computer Science. I have a keen eye for the product and user experience/requirements when designing a product. I have worked in fast-paced work-environments with tight deadlines and I learned that I pick-up new technologies quickly which helps me iterate through prototypes faster. I can add great value to your ML Team and help build new experiences for your consumers. I'm seeking Full-time Software Engineering roles (in Data Science/ML/DL/ML Ops) starting August 2024. Feel free to message me :) Competencies: Machine Learning, ML Operations, Keras, Tensorflow (core, JS, Lite), Scikit-Learn, Computer Vision, Web Development, Django, Flask, CI/CD, Python/C/C++/Java, Cloud Tech (AWS, Azure, GCP) Accomplishments: Winner at HackHarvard Hackathon '22 for 'Best use of Google Cloud'.\"}"
      ]
     },
     "execution_count": 94,
     "metadata": {},
     "output_type": "execute_result"
    }
   ],
   "source": [
    "i = 8\n",
    "summaries[i]"
   ]
  },
  {
   "cell_type": "code",
   "execution_count": 106,
   "metadata": {},
   "outputs": [
    {
     "name": "stdout",
     "output_type": "stream",
     "text": [
      "Software Engineering: Software Engineering Manager\n",
      "Score: 0.980\n",
      "Software Engineering: Software Engineering Director\n",
      "Score: 0.700\n",
      "Software Engineering: Software Manager\n",
      "Score: 0.484\n",
      "Software Engineering: Engineering Supervisor\n",
      "Score: 0.452\n",
      "Software Engineering: Shop Manager\n",
      "Score: 0.300\n",
      "\n",
      "Data Science: Data Science Internship\n",
      "Score: 0.936\n",
      "Data Science: Data Science Manager\n",
      "Score: 0.700\n",
      "Data Science: Decision Science Analyst\n",
      "Score: 0.445\n",
      "Data Science: Data Technician\n",
      "Score: 0.414\n",
      "Data Science: Science Teacher\n",
      "Score: 0.405\n",
      "\n",
      "ML: AI/ML Lead\n",
      "Score: 0.700\n",
      "ML: LPN\n",
      "Score: 0.300\n",
      "ML: Assistant Controller\n",
      "Score: 0.261\n",
      "ML: Assistant\n",
      "Score: 0.260\n",
      "ML: HV Technician\n",
      "Score: 0.252\n",
      "\n",
      "DL: Retail Sales Associate\n",
      "Score: 0.300\n",
      "DL: Service Director\n",
      "Score: 0.265\n",
      "DL: Cloud Authentication Engineer\n",
      "Score: 0.249\n",
      "DL: Music Therapist\n",
      "Score: 0.246\n",
      "DL: Labor Lawyer\n",
      "Score: 0.245\n",
      "\n",
      "ML Ops: AI/ML Lead\n",
      "Score: 0.700\n",
      "ML Ops: Product Marketing Coordinator\n",
      "Score: 0.300\n",
      "ML Ops: Supply Chain Analyst\n",
      "Score: 0.273\n",
      "ML Ops: Board Director\n",
      "Score: 0.273\n",
      "ML Ops: Medical Assistant Supervisor\n",
      "Score: 0.267\n",
      "\n"
     ]
    }
   ],
   "source": [
    "detected_roles = {}\n",
    "for role in summaries[i]['interested_roles']:\n",
    "\n",
    "    response = roles_collection.query.hybrid(query=role,\n",
    "                                            query_properties=['role'],\n",
    "                                            fusion_type=wvc.query.HybridFusion.RELATIVE_SCORE,\n",
    "                                            target_vector='role_vector',\n",
    "                                            return_metadata=wvc.query.MetadataQuery(score=True),\n",
    "                                            alpha=0.3,\n",
    "                                            limit=5)\n",
    "    \n",
    "    detected_roles[role] = response.objects\n",
    "\n",
    "for generated_role, detected_role in detected_roles.items():\n",
    "\n",
    "    # print(detected_role)\n",
    "    \n",
    "    for role in detected_role:\n",
    "        print(f'{generated_role}: {role.properties[\"role\"]}')\n",
    "        print(f'Score: {role.metadata.score:.3f}')\n",
    "    print()"
   ]
  },
  {
   "cell_type": "markdown",
   "metadata": {},
   "source": [
    "## Industries"
   ]
  },
  {
   "cell_type": "code",
   "execution_count": 58,
   "metadata": {},
   "outputs": [
    {
     "data": {
      "text/plain": [
       "{'skills': ['Data Science',\n",
       "  'Business Administration',\n",
       "  'Social Innovation and Entrepreneurship'],\n",
       " 'location': '',\n",
       " 'role_type': 'Internship',\n",
       " 'interested_roles': ['Tech', 'Finance'],\n",
       " 'industries': ['Tech', 'Finance'],\n",
       " 'remote': 'Flexible',\n",
       " 'team_fit': 'I am a graduating senior at Northeastern studying Data Science & Business Administration, with a concentration in social innovation and entrepreneurship. Currently searching for Summer 2024 internships in Tech and Finance before returning to Northeastern as a graduate student to complete a Masters in Data Science as part of the PlusOne program.',\n",
       " 'summary': 'I am a graduating senior at Northeastern studying Data Science & Business Administration, with a concentration in social innovation and entrepreneurship. Currently searching for Summer 2024 internships in Tech and Finance before returning to Northeastern as a graduate student to complete a Masters in Data Science as part of the PlusOne program.'}"
      ]
     },
     "execution_count": 58,
     "metadata": {},
     "output_type": "execute_result"
    }
   ],
   "source": [
    "i = 5\n",
    "summaries[i]"
   ]
  },
  {
   "cell_type": "code",
   "execution_count": 59,
   "metadata": {},
   "outputs": [
    {
     "data": {
      "text/plain": [
       "{'industry': 'Medical Equipment Manufacturing'}"
      ]
     },
     "execution_count": 59,
     "metadata": {},
     "output_type": "execute_result"
    }
   ],
   "source": [
    "with open('../data/industries.pkl', 'rb') as f:\n",
    "    industries = pickle.load(f)\n",
    "industries = [{'industry': industry} for industry in industries]\n",
    "industries[0]"
   ]
  },
  {
   "cell_type": "code",
   "execution_count": 79,
   "metadata": {},
   "outputs": [
    {
     "name": "stdout",
     "output_type": "stream",
     "text": [
      "Dropping pre-exisiting collection\n",
      "Inserted data!\n"
     ]
    }
   ],
   "source": [
    "if client.collections.exists('Industries'):\n",
    "    print('Dropping pre-exisiting collection')\n",
    "    client.collections.delete('Industries')\n",
    "    \n",
    "industries_collection = client.collections.create(name='Industries',\n",
    "                                            description='distinct industries',\n",
    "                                            vectorizer_config=[wvc.config.Configure.NamedVectors.text2vec_ollama(api_endpoint='http://host.docker.internal:11434',\n",
    "                                                                                                                 model='llama3',\n",
    "                                                                                                                 vector_index_config=wvc.config.Configure.VectorIndex.flat(distance_metric=wvc.config.VectorDistances.COSINE),\n",
    "                                                                                                                 name='industry_vector', \n",
    "                                                                                                                 source_properties=['industry'], \n",
    "                                                                                                                 vectorize_collection_name=False)],\n",
    "                                            properties=[wvc.config.Property(name='industry', data_type=wvc.config.DataType.TEXT)])\n",
    "\n",
    "industries_collection.data.insert_many(industries)\n",
    "print('Inserted data!')"
   ]
  },
  {
   "cell_type": "code",
   "execution_count": 83,
   "metadata": {},
   "outputs": [
    {
     "name": "stdout",
     "output_type": "stream",
     "text": [
      "Genereated Industry: Tech\n",
      "Oil 0.20000000298023224\n",
      "Construction 0.1998026967048645\n",
      "Education 0.1995142102241516\n",
      "Gas 0.19942273199558258\n",
      "Air 0.19941894710063934\n",
      "Restaurants 0.19940251111984253\n",
      "Water 0.19927307963371277\n",
      "Research 0.19926999509334564\n",
      "Technology 0.19925904273986816\n",
      "Health 0.19913141429424286\n",
      "\n",
      "Genereated Industry: Finance\n",
      "Construction 0.20000000298023224\n",
      "Education 0.19979368150234222\n",
      "Restaurants 0.1996726542711258\n",
      "Technology 0.19963811337947845\n",
      "Design 0.1995166540145874\n",
      "Insurance 0.19947028160095215\n",
      "Research 0.19944149255752563\n",
      "Movies 0.19920296967029572\n",
      "Health 0.1991831660270691\n",
      "Oil 0.1991124451160431\n",
      "\n"
     ]
    }
   ],
   "source": [
    "detected_industries = {}\n",
    "\n",
    "for industry in summaries[i]['industries']:\n",
    "\n",
    "    response = industries_collection.query.hybrid(query=industry,\n",
    "                                            query_properties=['industry'],\n",
    "                                            fusion_type=wvc.query.HybridFusion.RELATIVE_SCORE,\n",
    "                                            target_vector='industry_vector',\n",
    "                                            return_metadata=wvc.query.MetadataQuery(score=True),\n",
    "                                            alpha=0.2,\n",
    "                                            limit=10)\n",
    "    \n",
    "    # response = industries_collection.query.near_text(query=industry,\n",
    "    #                                               target_vector='industry_vector',\n",
    "    #                                               return_metadata=wvc.query.MetadataQuery(distance=True),\n",
    "    #                                               limit=10)\n",
    "    \n",
    "    detected_industries[industry] = response.objects\n",
    "\n",
    "for generated_industry, existing_industry in detected_industries.items():\n",
    "\n",
    "    print('Genereated Industry:', generated_industry)\n",
    "    for object in existing_industry:\n",
    "        # print(object.properties['industry'], object.metadata.distance)\n",
    "        print(object.properties['industry'], object.metadata.score)\n",
    "    print()\n",
    "\n",
    "        # print(f'{generated_industry}: {existing_industry.properties[\"industry\"]}')\n",
    "        # print(f'Score: {existing_industry.metadata.distance:.3f}')"
   ]
  },
  {
   "cell_type": "code",
   "execution_count": null,
   "metadata": {},
   "outputs": [],
   "source": []
  }
 ],
 "metadata": {
  "kernelspec": {
   "display_name": "weaviate",
   "language": "python",
   "name": "python3"
  },
  "language_info": {
   "codemirror_mode": {
    "name": "ipython",
    "version": 3
   },
   "file_extension": ".py",
   "mimetype": "text/x-python",
   "name": "python",
   "nbconvert_exporter": "python",
   "pygments_lexer": "ipython3",
   "version": "3.11.9"
  }
 },
 "nbformat": 4,
 "nbformat_minor": 2
}
